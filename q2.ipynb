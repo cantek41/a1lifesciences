{
 "cells": [
  {
   "cell_type": "code",
   "execution_count": 1,
   "id": "e13eb9bf",
   "metadata": {},
   "outputs": [],
   "source": [
    "text=\"CBCCCFFFFFFFGGGGGGGGGGHHHHGHHHHHHHHHHHFHHHHHHHFHHHH\""
   ]
  },
  {
   "cell_type": "code",
   "execution_count": 2,
   "id": "2b671390",
   "metadata": {},
   "outputs": [],
   "source": [
    "import pandas as pd\n",
    "import math\n",
    "import numpy as np\n",
    "import matplotlib.pyplot as plt\n",
    "from Bio import SeqIO\n",
    "import matplotlib.patches as patches"
   ]
  },
  {
   "cell_type": "code",
   "execution_count": 3,
   "id": "6509ea62",
   "metadata": {},
   "outputs": [
    {
     "name": "stdout",
     "output_type": "stream",
     "text": [
      "Requirement already satisfied: biopython in c:\\programdata\\anaconda3\\lib\\site-packages (1.79)\n",
      "Requirement already satisfied: numpy in c:\\users\\cantek\\appdata\\roaming\\python\\python38\\site-packages (from biopython) (1.19.5)\n"
     ]
    }
   ],
   "source": [
    "# !pip install biopython"
   ]
  },
  {
   "cell_type": "code",
   "execution_count": 5,
   "id": "c9eb3340",
   "metadata": {},
   "outputs": [],
   "source": [
    "fasta_sequences = SeqIO.parse(open(r\"C:\\Users\\cantek\\Desktop\\a1\\lifesciences\\80_R1.fastq\"),'fastq')"
   ]
  },
  {
   "cell_type": "code",
   "execution_count": null,
   "id": "eaf451ce",
   "metadata": {},
   "outputs": [],
   "source": [
    "l=[] \n",
    "for fasta in fasta_sequences:\n",
    "        name, sequence,ann = fasta.id, str(fasta.seq), fasta.annotations\n",
    "        print(fasta.letter_annotations[\"phred_quality\"])\n",
    "        l.append(fasta.letter_annotations[\"phred_quality\"])\n",
    "        print(\"========\")"
   ]
  },
  {
   "cell_type": "code",
   "execution_count": 6,
   "id": "512b46a3",
   "metadata": {},
   "outputs": [],
   "source": [
    "def plot_fastq_qualities(filename, ax=None, limit=10000):\n",
    "    fastq_parser = SeqIO.parse(open(filename), \"fastq\")\n",
    "    res=[]\n",
    "    c=0\n",
    "    for record in fastq_parser:\n",
    "        score=record.letter_annotations[\"phred_quality\"]\n",
    "        res.append(score)\n",
    "        c+=1\n",
    "        if c>limit:\n",
    "            break\n",
    "    df = pd.DataFrame(res)\n",
    "    l = len(df.T)+1\n",
    "\n",
    "    if ax==None:\n",
    "        f,ax=plt.subplots(figsize=(20,10))\n",
    "        \n",
    "    rect = patches.Rectangle((0,0),l,20,linewidth=0,facecolor='r',alpha=.4)\n",
    "    ax.add_patch(rect)\n",
    "    rect = patches.Rectangle((0,20),l,8,linewidth=0,facecolor='yellow',alpha=.4)\n",
    "    ax.add_patch(rect)\n",
    "    rect = patches.Rectangle((0,28),l,12,linewidth=0,facecolor='g',alpha=.4)\n",
    "    ax.add_patch(rect)\n",
    "    \n",
    "    \n",
    "    boxprops = dict(linestyle='-', linewidth=1, color='yellow')\n",
    "    df.plot(kind='box', ax=ax, grid=False, showfliers=False,widths=0.5,patch_artist=True,\n",
    "            color=dict(boxes='yellow',whiskers='black',medians=\"red\")  )\n",
    "    df.mean().plot(ax=ax,c='blue')\n",
    "    ax.set_xticks(np.arange(0, l, 5))\n",
    "    ax.set_xticklabels(np.arange(0, l, 5))\n",
    "    ax.set_xlabel('position(bp)')\n",
    "    ax.set_xlim((0,l))\n",
    "    ax.set_ylim((0,40))\n",
    "    ax.set_title('per base sequence quality')    \n",
    "    return"
   ]
  },
  {
   "cell_type": "code",
   "execution_count": 8,
   "id": "aea25a52",
   "metadata": {},
   "outputs": [
    {
     "data": {
      "image/png": "[encoded data removed]",
      "text/plain": [
       "<Figure size 1440x720 with 1 Axes>"
      ]
     },
     "metadata": {
      "needs_background": "light"
     },
     "output_type": "display_data"
    }
   ],
   "source": [
    "plot_fastq_qualities(r\"C:\\Users\\cantek\\Desktop\\a1\\lifesciences\\80_R1.fastq\")"
   ]
  },
  {
   "cell_type": "code",
   "execution_count": null,
   "id": "e6a20ece",
   "metadata": {},
   "outputs": [],
   "source": [
    "p_error_list = pd.read_excel(r\"C:\\Users\\cantek\\Desktop\\a1\\P_error_table.xlsx\")\n",
    "p_error_list[\"error\"]=p_error_list[\"error\"].astype(float)\n",
    "dic= p_error_list[[\"Ascii\",\"error\"]].to_dict()"
   ]
  },
  {
   "cell_type": "code",
   "execution_count": null,
   "id": "9356a828",
   "metadata": {},
   "outputs": [],
   "source": [
    "dict_error={}\n",
    "for i,r in p_error_list.iterrows():\n",
    "    dict_error[r[\"Ascii\"]]=r[\"error\"]"
   ]
  },
  {
   "cell_type": "code",
   "execution_count": null,
   "id": "16d13fa3",
   "metadata": {},
   "outputs": [],
   "source": [
    "def calc_q(p):\n",
    "    return int(-10*math.log10(p))"
   ]
  },
  {
   "cell_type": "code",
   "execution_count": null,
   "id": "a97b98f3",
   "metadata": {},
   "outputs": [],
   "source": [
    "len(text)"
   ]
  },
  {
   "cell_type": "code",
   "execution_count": null,
   "id": "0e9fadc1",
   "metadata": {},
   "outputs": [],
   "source": [
    "list_q=[]\n",
    "for t in text:  \n",
    "    list_q.append(calc_q(dict_error[ord(t)]))"
   ]
  },
  {
   "cell_type": "code",
   "execution_count": null,
   "id": "18df737d",
   "metadata": {},
   "outputs": [],
   "source": [
    "meanq = np.mean(list_q)"
   ]
  },
  {
   "cell_type": "code",
   "execution_count": null,
   "id": "5cb32342",
   "metadata": {},
   "outputs": [],
   "source": [
    "print(np.min(list_q))\n",
    "print(np.max(list_q))\n",
    "print(np.median(list_q))\n",
    "print(np.mean(list_q))"
   ]
  },
  {
   "cell_type": "code",
   "execution_count": null,
   "id": "fca64b95",
   "metadata": {},
   "outputs": [],
   "source": [
    "print(np.min(l[0]))\n",
    "print(np.max(l[0]))\n",
    "print(np.median(l[0]))\n",
    "print(np.mean(l[0]))"
   ]
  },
  {
   "cell_type": "code",
   "execution_count": null,
   "id": "58cb1f39",
   "metadata": {},
   "outputs": [],
   "source": [
    "import seaborn as sns"
   ]
  },
  {
   "cell_type": "code",
   "execution_count": null,
   "id": "70fda861",
   "metadata": {},
   "outputs": [],
   "source": [
    "fig4, ax4 = plt.subplots(figsize=(20,10))\n",
    "ax4.set_title('Hide Outlier Points')\n",
    "ax4.boxplot(l[:50], showfliers=False)"
   ]
  },
  {
   "cell_type": "code",
   "execution_count": null,
   "id": "b5ff484b",
   "metadata": {},
   "outputs": [],
   "source": []
  }
 ],
 "metadata": {
  "kernelspec": {
   "display_name": "Python 3",
   "language": "python",
   "name": "python3"
  },
  "language_info": {
   "codemirror_mode": {
    "name": "ipython",
    "version": 3
   },
   "file_extension": ".py",
   "mimetype": "text/x-python",
   "name": "python",
   "nbconvert_exporter": "python",
   "pygments_lexer": "ipython3",
   "version": "3.8.8"
  }
 },
 "nbformat": 4,
 "nbformat_minor": 5
}
